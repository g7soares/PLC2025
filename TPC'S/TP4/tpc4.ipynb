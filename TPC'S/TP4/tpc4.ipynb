{
 "cells": [
  {
   "cell_type": "code",
   "execution_count": 11,
   "id": "dd2b5c38",
   "metadata": {},
   "outputs": [],
   "source": [
    "import re \n",
    "Token = tuple(['type', 'value'])\n",
    "dic = {\n",
    "    'COMMENT':     r\"\\#.*\",           \n",
    "    'STRING':      r'\"[^\"]*\"',              \n",
    "    'IDIOMA':      r'@[a-zA-Z\\-]+', \n",
    "    'SELECT':      r'select',        \n",
    "    'WHERE':       r\"where\",\n",
    "    'LIMIT':       r\"LIMIT\",\n",
    "    'VARIABLE':    r\"\\?[a-zA-Z_][a-zA-Z0-9_]*\",\n",
    "    'PREFIX':      r\"[a-zA-Z_][a-zA-Z0-9_]*:[a-zA-Z_][a-zA-Z0-9_]*\",\n",
    "    'A':           r\"a\", \n",
    "    'LBRACE':      r\"\\{\",\n",
    "    'RBRACE':      r\"\\}\",\n",
    "    'DOT':         r\"\\.\",\n",
    "    'NEWLINE':     r\"\\n\",\n",
    "    'NUMBER':      r\"[0-9]+\",\n",
    "    'WHITESPACE':  r\"[ \\t\\r]+\",\n",
    "}"
   ]
  },
  {
   "cell_type": "code",
   "execution_count": 12,
   "id": "8d6b8e04",
   "metadata": {},
   "outputs": [
    {
     "name": "stdout",
     "output_type": "stream",
     "text": [
      "[('SELECT', 'select', 1, (0, 6)), ('VARIABLE', '?nome', 1, (7, 12)), ('VARIABLE', '?desc', 1, (13, 18)), ('WHERE', 'where', 1, (19, 24)), ('LBRACE', '{', 1, (25, 26)), ('VARIABLE', '?s', 2, (28, 30)), ('A', 'a', 2, (31, 32)), ('PREFIX', 'dbo:MusicalArtist', 2, (33, 50)), ('DOT', '.', 2, (50, 51)), ('VARIABLE', '?s', 3, (53, 55)), ('PREFIX', 'foaf:name', 3, (56, 65)), ('STRING', '\"Chuck Berry\"', 3, (66, 79)), ('IDIOMA', '@en', 3, (79, 82)), ('DOT', '.', 3, (83, 84)), ('VARIABLE', '?w', 4, (86, 88)), ('PREFIX', 'dbo:artist', 4, (89, 99)), ('VARIABLE', '?s', 4, (100, 102)), ('DOT', '.', 4, (102, 103)), ('VARIABLE', '?w', 5, (105, 107)), ('PREFIX', 'foaf:name', 5, (108, 117)), ('VARIABLE', '?nome', 5, (118, 123)), ('DOT', '.', 5, (123, 124)), ('VARIABLE', '?w', 6, (126, 128)), ('PREFIX', 'dbo:abstract', 6, (129, 141)), ('VARIABLE', '?desc', 6, (142, 147)), ('RBRACE', '}', 7, (148, 149)), ('LIMIT', 'LIMIT', 7, (150, 155)), ('NUMBER', '1000', 7, (156, 160))]\n"
     ]
    }
   ],
   "source": [
    "def tokenizer(input_string):\n",
    "    tokens = []\n",
    "    token_regex = '|'.join(f'(?P<{name}>{pattern})' for name, pattern in dic.items())\n",
    "    match = re.finditer(token_regex,input_string)\n",
    "    linha = 1\n",
    "    # alternativa a isto seria usar match.lastgroup e apenas usar um for, mas dado que o professor nao lecionou...\n",
    "    for match in re.finditer(token_regex, input_string):\n",
    "        groups = match.groupdict()\n",
    "        for tipo, valor in groups.items():\n",
    "            if valor is not None: \n",
    "                if tipo == \"NEWLINE\":\n",
    "                    linha +=1\n",
    "                elif tipo not in ('WHITESPACE', 'COMMENT'):\n",
    "                    tokens.append((tipo, valor, linha,match.span()))\n",
    "                break  # eficiencia, meio macetado\n",
    "    print(tokens)\n",
    "    \n",
    "    \n",
    "    return \n",
    "\n",
    "\n",
    "\n",
    "input = \"# DBPedia: obras de Chuck Berry\\n\" \\\n",
    "        \"select ?nome ?desc where {\\n\" \\\n",
    "        \" ?s a dbo:MusicalArtist.\\n\" \\\n",
    "        \" ?s foaf:name \\\"Chuck Berry\\\"@en .\\n\" \\\n",
    "        \" ?w dbo:artist ?s.\\n\" \\\n",
    "        \" ?w foaf:name ?nome.\\n\" \\\n",
    "        \" ?w dbo:abstract ?desc\\n\" \\\n",
    "        \"} LIMIT 1000\"\n",
    "\n",
    "inputSemComment = \"select ?nome ?desc where {\\n\" \\\n",
    "        \" ?s a dbo:MusicalArtist.\\n\" \\\n",
    "        \" ?s foaf:name \\\"Chuck Berry\\\"@en .\\n\" \\\n",
    "        \" ?w dbo:artist ?s.\\n\" \\\n",
    "        \" ?w foaf:name ?nome.\\n\" \\\n",
    "        \" ?w dbo:abstract ?desc\\n\" \\\n",
    "        \"} LIMIT 1000\"\n",
    "\n",
    "if __name__ == \"__main__\":\n",
    "    tokenizer(inputSemComment)\n",
    "        "
   ]
  }
 ],
 "metadata": {
  "kernelspec": {
   "display_name": "base",
   "language": "python",
   "name": "python3"
  },
  "language_info": {
   "codemirror_mode": {
    "name": "ipython",
    "version": 3
   },
   "file_extension": ".py",
   "mimetype": "text/x-python",
   "name": "python",
   "nbconvert_exporter": "python",
   "pygments_lexer": "ipython3",
   "version": "3.13.5"
  }
 },
 "nbformat": 4,
 "nbformat_minor": 5
}
