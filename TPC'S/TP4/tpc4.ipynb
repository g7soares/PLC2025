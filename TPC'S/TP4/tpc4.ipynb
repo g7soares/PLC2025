{
 "cells": [
  {
   "cell_type": "code",
   "execution_count": 1,
   "id": "dd2b5c38",
   "metadata": {},
   "outputs": [],
   "source": [
    "import re \n",
    "Token = tuple(['type', 'value'])\n",
    "dic = {\n",
    "    'COMMENT':     r\"\\#.*\",           \n",
    "    'STRING':      r'\"[^\"]*\"',              \n",
    "    'IDIOMA':      r'@[a-zA-Z\\-]+', \n",
    "    'SELECT':      r'select',        \n",
    "    'WHERE':       r\"where\",\n",
    "    'LIMIT':       r\"LIMIT\",\n",
    "    'VARIABLE':    r\"\\?[a-zA-Z_][a-zA-Z0-9_]*\",\n",
    "    'PREFIX':      r\"[a-zA-Z_][a-zA-Z0-9_]*:[a-zA-Z_][a-zA-Z0-9_]*\",\n",
    "    'A':           r\"a\", \n",
    "    'LBRACE':      r\"\\{\",\n",
    "    'RBRACE':      r\"\\}\",\n",
    "    'DOT':         r\"\\.\",\n",
    "    'NEWLINE':     r\"\\n\",\n",
    "    'NUMBER':      r\"[0-9]+\",\n",
    "    'WHITESPACE':  r\"[ \\t\\r]+\",\n",
    "}"
   ]
  },
  {
   "cell_type": "code",
   "execution_count": 2,
   "id": "8d6b8e04",
   "metadata": {},
   "outputs": [
    {
     "name": "stdout",
     "output_type": "stream",
     "text": [
      "[('SELECT', 'select', 2, (32, 38)), ('VARIABLE', '?nome', 2, (39, 44)), ('VARIABLE', '?desc', 2, (45, 50)), ('WHERE', 'where', 2, (51, 56)), ('LBRACE', '{', 2, (57, 58)), ('VARIABLE', '?s', 3, (60, 62)), ('A', 'a', 3, (63, 64)), ('PREFIX', 'dbo:MusicalArtist', 3, (65, 82)), ('DOT', '.', 3, (82, 83)), ('VARIABLE', '?s', 4, (85, 87)), ('PREFIX', 'foaf:name', 4, (88, 97)), ('STRING', '\"Chuck Berry\"', 4, (98, 111)), ('IDIOMA', '@en', 4, (111, 114)), ('DOT', '.', 4, (115, 116)), ('VARIABLE', '?w', 5, (118, 120)), ('PREFIX', 'dbo:artist', 5, (121, 131)), ('VARIABLE', '?s', 5, (132, 134)), ('DOT', '.', 5, (134, 135)), ('VARIABLE', '?w', 6, (137, 139)), ('PREFIX', 'foaf:name', 6, (140, 149)), ('VARIABLE', '?nome', 6, (150, 155)), ('DOT', '.', 6, (155, 156)), ('VARIABLE', '?w', 7, (158, 160)), ('PREFIX', 'dbo:abstract', 7, (161, 173)), ('VARIABLE', '?desc', 7, (174, 179)), ('RBRACE', '}', 8, (180, 181)), ('LIMIT', 'LIMIT', 8, (182, 187)), ('NUMBER', '1000', 8, (188, 192))]\n"
     ]
    }
   ],
   "source": [
    "def tokenizer(input_string):\n",
    "    tokens = []\n",
    "    token_regex = '|'.join(f'(?P<{name}>{pattern})' for name, pattern in dic.items())\n",
    "    match = re.finditer(token_regex,input_string)\n",
    "    linha = 1\n",
    "    # alternativa a isto seria usar match.lastgroup e apenas usar um for, mas dado que o professor nao lecionou...\n",
    "    for match in re.finditer(token_regex, input_string):\n",
    "        groups = match.groupdict()\n",
    "        for tipo, valor in groups.items():\n",
    "            if valor is not None: \n",
    "                if tipo == \"NEWLINE\":\n",
    "                    linha +=1\n",
    "                elif tipo not in ('WHITESPACE', 'COMMENT'):\n",
    "                    tokens.append((tipo, valor, linha,match.span()))\n",
    "                break  # eficiencia, meio macetado\n",
    "    print(tokens)\n",
    "    \n",
    "    \n",
    "    return \n",
    "\n",
    "\n",
    "\n",
    "input = \"# DBPedia: obras de Chuck Berry\\n\" \\\n",
    "        \"select ?nome ?desc where {\\n\" \\\n",
    "        \" ?s a dbo:MusicalArtist.\\n\" \\\n",
    "        \" ?s foaf:name \\\"Chuck Berry\\\"@en .\\n\" \\\n",
    "        \" ?w dbo:artist ?s.\\n\" \\\n",
    "        \" ?w foaf:name ?nome.\\n\" \\\n",
    "        \" ?w dbo:abstract ?desc\\n\" \\\n",
    "        \"} LIMIT 1000\"\n",
    "\n",
    "inputSemComment = \"select ?nome ?desc where {\\n\" \\\n",
    "        \" ?s a dbo:MusicalArtist.\\n\" \\\n",
    "        \" ?s foaf:name \\\"Chuck Berry\\\"@en .\\n\" \\\n",
    "        \" ?w dbo:artist ?s.\\n\" \\\n",
    "        \" ?w foaf:name ?nome.\\n\" \\\n",
    "        \" ?w dbo:abstract ?desc\\n\" \\\n",
    "        \"} LIMIT 1000\"\n",
    "\n",
    "if __name__ == \"__main__\":\n",
    "    tokenizer(input)\n",
    "        "
   ]
  }
 ],
 "metadata": {
  "kernelspec": {
   "display_name": "base",
   "language": "python",
   "name": "python3"
  },
  "language_info": {
   "codemirror_mode": {
    "name": "ipython",
    "version": 3
   },
   "file_extension": ".py",
   "mimetype": "text/x-python",
   "name": "python",
   "nbconvert_exporter": "python",
   "pygments_lexer": "ipython3",
   "version": "3.13.5"
  }
 },
 "nbformat": 4,
 "nbformat_minor": 5
}
