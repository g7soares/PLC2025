{
 "cells": [
  {
   "cell_type": "code",
   "execution_count": null,
   "id": "dd2b5c38",
   "metadata": {},
   "outputs": [],
   "source": [
    "import re \n",
    "Token = tuple(['type', 'value'])\n",
    "dic = {\n",
    "    'COMMENT':     r\"\\#.*\",           \n",
    "    'STRING':      r'\"[^\"]*\"',              \n",
    "    'IDIOMA':      r'@[a-zA-Z\\-]+', \n",
    "    'SELECT':      r'select',        \n",
    "    'WHERE':       r\"where\",\n",
    "    'LIMIT':       r\"LIMIT\",\n",
    "    'VARIABLE':    r\"\\?[a-zA-Z_][a-zA-Z0-9_]*\",\n",
    "    'PREFIX':      r\"[a-zA-Z_][a-zA-Z0-9_]*:[a-zA-Z_][a-zA-Z0-9_]*\",\n",
    "    'A':           r\"a\", \n",
    "    'LBRACE':      r\"\\{\",\n",
    "    'RBRACE':      r\"\\}\",\n",
    "    'DOT':         r\"\\.\",\n",
    "    'NUMBER':      r\"[0-9]+\",\n",
    "    'WHITESPACE':  r\"[ \\t\\n\\r]+\",\n",
    "}"
   ]
  },
  {
   "cell_type": "code",
   "execution_count": 57,
   "id": "8d6b8e04",
   "metadata": {},
   "outputs": [
    {
     "name": "stdout",
     "output_type": "stream",
     "text": [
      "[('SELECT', 'select'), ('VARIABLE', '?nome'), ('VARIABLE', '?desc'), ('WHERE', 'where'), ('LBRACE', '{'), ('VARIABLE', '?s'), ('A', 'a'), ('PREFIX', 'dbo:MusicalArtist'), ('DOT', '.'), ('VARIABLE', '?s'), ('PREFIX', 'foaf:name'), ('STRING', '\"Chuck Berry\"'), ('IDIOMA', '@en'), ('DOT', '.'), ('VARIABLE', '?w'), ('PREFIX', 'dbo:artist'), ('VARIABLE', '?s'), ('DOT', '.'), ('VARIABLE', '?w'), ('PREFIX', 'foaf:name'), ('VARIABLE', '?nome'), ('DOT', '.'), ('VARIABLE', '?w'), ('PREFIX', 'dbo:abstract'), ('VARIABLE', '?desc'), ('RBRACE', '}'), ('LIMIT', 'LIMIT'), ('NUMBER', '1000')]\n"
     ]
    }
   ],
   "source": [
    "def tokenizer(input_string):\n",
    "    tokens = []\n",
    "    token_regex = '|'.join(f'(?P<{name}>{pattern})' for name, pattern in dic.items())\n",
    "    match = re.finditer(token_regex,input_string)\n",
    "    # alternativa a isto seria usar match.lastgroup e apenas usar um for, mas dado que o professor nao lecionou...\n",
    "    for match in re.finditer(token_regex, input_string):\n",
    "        groups = match.groupdict()\n",
    "        for tipo, valor in groups.items():\n",
    "            if valor is not None: \n",
    "                if tipo not in ('WHITESPACE', 'COMMENT'):\n",
    "                    tokens.append((tipo, valor))\n",
    "                break  # eficiencia, meio macetado\n",
    "    print(tokens)\n",
    "    \n",
    "    \n",
    "    return \n",
    "\n",
    "\n",
    "\n",
    "input = \"# DBPedia: obras de Chuck Berry\\n\" \\\n",
    "        \"select ?nome ?desc where {\\n\" \\\n",
    "        \" ?s a dbo:MusicalArtist.\\n\" \\\n",
    "        \" ?s foaf:name \\\"Chuck Berry\\\"@en .\\n\" \\\n",
    "        \" ?w dbo:artist ?s.\\n\" \\\n",
    "        \" ?w foaf:name ?nome.\\n\" \\\n",
    "        \" ?w dbo:abstract ?desc\\n\" \\\n",
    "        \"} LIMIT 1000\"\n",
    "\n",
    "if __name__ == \"__main__\":\n",
    "    tokenizer(input)\n",
    "        "
   ]
  }
 ],
 "metadata": {
  "kernelspec": {
   "display_name": "base",
   "language": "python",
   "name": "python3"
  },
  "language_info": {
   "codemirror_mode": {
    "name": "ipython",
    "version": 3
   },
   "file_extension": ".py",
   "mimetype": "text/x-python",
   "name": "python",
   "nbconvert_exporter": "python",
   "pygments_lexer": "ipython3",
   "version": "3.13.5"
  }
 },
 "nbformat": 4,
 "nbformat_minor": 5
}
